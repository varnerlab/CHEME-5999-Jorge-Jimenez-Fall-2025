{
 "cells": [
  {
   "cell_type": "code",
   "execution_count": 10,
   "id": "edc6c7a1",
   "metadata": {},
   "outputs": [],
   "source": [
    "# Import necessary libraries\n",
    "import numpy as np\n",
    "import pandas as pd\n",
    "import yfinance as yf\n",
    "from scipy.stats import norm\n",
    "from scipy.optimize import fsolve"
   ]
  },
  {
   "cell_type": "code",
   "execution_count": null,
   "id": "2ccde410",
   "metadata": {},
   "outputs": [
    {
     "data": {
      "application/vnd.jupyter.widget-view+json": {
       "model_id": "3ed2f4614ba945f5a934b63156329354",
       "version_major": 2,
       "version_minor": 0
      },
      "text/plain": [
       "Dropdown(description='Company:', index=1, layout=Layout(width='400px'), options=('AAPL - Apple Inc.', 'MSFT - …"
      ]
     },
     "metadata": {},
     "output_type": "display_data"
    },
    {
     "data": {
      "application/vnd.jupyter.widget-view+json": {
       "model_id": "9324f33837884dde80d968447fc2f417",
       "version_major": 2,
       "version_minor": 0
      },
      "text/plain": [
       "Button(button_style='success', description='Select Company', style=ButtonStyle())"
      ]
     },
     "metadata": {},
     "output_type": "display_data"
    },
    {
     "data": {
      "application/vnd.jupyter.widget-view+json": {
       "model_id": "bd720164196f4695ad76026cf1c9af5a",
       "version_major": 2,
       "version_minor": 0
      },
      "text/plain": [
       "Output()"
      ]
     },
     "metadata": {},
     "output_type": "display_data"
    },
    {
     "name": "stdout",
     "output_type": "stream",
     "text": [
      "Default selection: MSFT - Microsoft Corporation\n",
      "👆 Choose a company from the dropdown and click 'Select Company' button\n",
      "\n",
      "📊 Risk Categories Included:\n",
      "🟢 Low Risk: Large cap, stable companies (AAPL, MSFT, JNJ, etc.)\n",
      "🟡 Medium Risk: Cyclical, travel, commodities (UAL, F, MGM, etc.)\n",
      "🔴 High Risk: Small cap, volatile, high debt (AMC, GME, PTON, etc.)\n"
     ]
    }
   ],
   "source": [
    "# Create a dropdown widget where you can select a company ticker\n",
    "import ipywidgets as widgets\n",
    "from IPython.display import display\n",
    "\n",
    "# Comprehensive list of companies across risk categories\n",
    "# Format: 'TICKER - Company Name'\n",
    "company_options = [\n",
    "    # LOW RISK COMPANIES (Large Cap, Stable)\n",
    "    'AAPL - Apple Inc.',\n",
    "    'MSFT - Microsoft Corporation',\n",
    "    'GOOGL - Alphabet Inc.',\n",
    "    'JNJ - Johnson & Johnson',\n",
    "    'PG - Procter & Gamble Co.',\n",
    "    'KO - The Coca-Cola Company',\n",
    "    'PEP - PepsiCo Inc.',\n",
    "    'WMT - Walmart Inc.',\n",
    "    'V - Visa Inc.',\n",
    "    'MA - Mastercard Inc.',\n",
    "    'HD - The Home Depot Inc.',\n",
    "    'UNH - UnitedHealth Group Inc.',\n",
    "    'JPM - JPMorgan Chase & Co.',\n",
    "    'BAC - Bank of America Corp.',\n",
    "    'DIS - The Walt Disney Company',\n",
    "    'NVDA - NVIDIA Corporation',\n",
    "    'TSLA - Tesla Inc.',\n",
    "    'BRK-B - Berkshire Hathaway Inc.',\n",
    "    'XOM - Exxon Mobil Corporation',\n",
    "    'CVX - Chevron Corporation',\n",
    "    \n",
    "    # MEDIUM RISK COMPANIES (Mid Cap, Cyclical)\n",
    "    'F - Ford Motor Company',\n",
    "    'GM - General Motors Company',\n",
    "    'UAL - United Airlines Holdings Inc.',\n",
    "    'AAL - American Airlines Group Inc.',\n",
    "    'DAL - Delta Air Lines Inc.',\n",
    "    'NCLH - Norwegian Cruise Line Holdings',\n",
    "    'RCL - Royal Caribbean Cruises Ltd.',\n",
    "    'CCL - Carnival Corporation',\n",
    "    'MGM - MGM Resorts International',\n",
    "    'LVS - Las Vegas Sands Corp.',\n",
    "    'WYNN - Wynn Resorts Ltd.',\n",
    "    'MAR - Marriott International Inc.',\n",
    "    'HLT - Hilton Worldwide Holdings Inc.',\n",
    "    'IHG - InterContinental Hotels Group',\n",
    "    'X - United States Steel Corporation',\n",
    "    'CLF - Cleveland-Cliffs Inc.',\n",
    "    'AA - Alcoa Corporation',\n",
    "    'FCX - Freeport-McMoRan Inc.',\n",
    "    'NEM - Newmont Corporation',\n",
    "    'APA - APA Corporation',\n",
    "    \n",
    "    # HIGH RISK COMPANIES (Small Cap, Volatile, High Debt)\n",
    "    'AMC - AMC Entertainment Holdings Inc.',\n",
    "    'GME - GameStop Corp.',\n",
    "    'BBBY - Bed Bath & Beyond Inc.',\n",
    "    'EXPR - Express Inc.',\n",
    "    'SEARS - Sears Holdings Corporation',\n",
    "    'JCP - J.C. Penney Company Inc.',\n",
    "    'HTZ - Hertz Global Holdings Inc.',\n",
    "    'PTON - Peloton Interactive Inc.',\n",
    "    'ZOOM - Zoom Video Communications Inc.',\n",
    "    'BYND - Beyond Meat Inc.',\n",
    "    'PLUG - Plug Power Inc.',\n",
    "    'NKLA - Nikola Corporation',\n",
    "    'RIDE - Lordstown Motors Corp.',\n",
    "    'LCID - Lucid Group Inc.',\n",
    "    'RIVN - Rivian Automotive Inc.',\n",
    "    'SPCE - Virgin Galactic Holdings Inc.',\n",
    "    'HOOD - Robinhood Markets Inc.',\n",
    "    'COIN - Coinbase Global Inc.',\n",
    "    'ROKU - Roku Inc.',\n",
    "    'SNAP - Snap Inc.',\n",
    "    'TWTR - Twitter Inc.',\n",
    "    'UBER - Uber Technologies Inc.',\n",
    "    'LYFT - Lyft Inc.',\n",
    "    'DASH - DoorDash Inc.',\n",
    "    'SNOW - Snowflake Inc.',\n",
    "    'PLTR - Palantir Technologies Inc.',\n",
    "    'WISH - ContextLogic Inc.',\n",
    "    'DKNG - DraftKings Inc.',\n",
    "    'PENN - PENN Entertainment Inc.',\n",
    "    'FUBO - fuboTV Inc.'\n",
    "]\n",
    "\n",
    "# Create a dropdown widget for company selection\n",
    "company_dropdown = widgets.Dropdown(\n",
    "    options=company_options,\n",
    "    value='MSFT - Microsoft Corporation',  # Default selection\n",
    "    description='Company:',\n",
    "    style={'description_width': 'initial'},\n",
    "    layout=widgets.Layout(width='400px')\n",
    ")\n",
    "\n",
    "# Create a button to update the selection\n",
    "update_button = widgets.Button(\n",
    "    description='Select Company',\n",
    "    button_style='success'\n",
    ")\n",
    "\n",
    "# Create an output widget to show the selected company\n",
    "output = widgets.Output()\n",
    "\n",
    "def on_button_click(b):\n",
    "    global selected_ticker, selected_company_name\n",
    "    # Extract ticker from the dropdown selection (format: 'TICKER - Company Name')\n",
    "    selection = company_dropdown.value\n",
    "    selected_ticker = selection.split(' - ')[0]\n",
    "    selected_company_name = selection.split(' - ')[1]\n",
    "    \n",
    "    with output:\n",
    "        output.clear_output()\n",
    "        print(f\"✅ Selected: {selected_ticker} - {selected_company_name}\")\n",
    "\n",
    "update_button.on_click(on_button_click)\n",
    "\n",
    "# Display the widgets\n",
    "display(company_dropdown, update_button, output)\n",
    "\n",
    "# Initialize with default selection\n",
    "selected_ticker = 'MSFT'\n",
    "selected_company_name = 'Microsoft Corporation'\n",
    "print(f\"Default selection: {selected_ticker} - {selected_company_name}\")\n",
    "print(\"👆 Choose a company from the dropdown and click 'Select Company' button\")\n",
    "print(\"\\n📊 Risk Categories Included:\")\n",
    "print(\"🟢 Low Risk: Large cap, stable companies (AAPL, MSFT, JNJ, etc.)\")\n",
    "print(\"🟡 Medium Risk: Cyclical, travel, commodities (UAL, F, MGM, etc.)\")\n",
    "print(\"🔴 High Risk: Small cap, volatile, high debt (AMC, GME, PTON, etc.)\")"
   ]
  },
  {
   "cell_type": "code",
   "execution_count": 12,
   "id": "fdeb7ab2",
   "metadata": {},
   "outputs": [
    {
     "name": "stdout",
     "output_type": "stream",
     "text": [
      "🎯 Analyzing: DAL\n",
      "------------------------------\n",
      "Available balance sheet items:\n",
      "['Treasury Shares Number', 'Ordinary Shares Number', 'Share Issued', 'Net Debt', 'Total Debt', 'Tangible Book Value', 'Invested Capital', 'Working Capital', 'Net Tangible Assets', 'Capital Lease Obligations', 'Common Stock Equity', 'Total Capitalization', 'Total Equity Gross Minority Interest', 'Stockholders Equity', 'Gains Losses Not Affecting Retained Earnings', 'Other Equity Adjustments', 'Treasury Stock', 'Retained Earnings', 'Additional Paid In Capital', 'Capital Stock', 'Common Stock', 'Total Liabilities Net Minority Interest', 'Total Non Current Liabilities Net Minority Interest', 'Other Non Current Liabilities', 'Employee Benefits', 'Non Current Pension And Other Postretirement Benefit Plans', 'Non Current Deferred Liabilities', 'Non Current Deferred Revenue', 'Non Current Deferred Taxes Liabilities', 'Long Term Debt And Capital Lease Obligation', 'Long Term Capital Lease Obligation', 'Long Term Debt', 'Current Liabilities', 'Other Current Liabilities', 'Current Deferred Liabilities', 'Current Deferred Revenue', 'Current Debt And Capital Lease Obligation', 'Current Capital Lease Obligation', 'Current Debt', 'Other Current Borrowings', 'Payables And Accrued Expenses', 'Current Accrued Expenses', 'Payables', 'Accounts Payable', 'Total Assets', 'Total Non Current Assets', 'Other Non Current Assets', 'Non Current Deferred Assets', 'Non Current Deferred Taxes Assets', 'Investments And Advances', 'Investmentin Financial Assets', 'Available For Sale Securities', 'Long Term Equity Investment', 'Goodwill And Other Intangible Assets', 'Other Intangible Assets', 'Goodwill', 'Net PPE', 'Accumulated Depreciation', 'Gross PPE', 'Construction In Progress', 'Other Properties', 'Machinery Furniture Equipment', 'Current Assets', 'Other Current Assets', 'Prepaid Assets', 'Inventory', 'Receivables', 'Accounts Receivable', 'Allowance For Doubtful Accounts Receivable', 'Gross Accounts Receivable', 'Cash Cash Equivalents And Short Term Investments', 'Other Short Term Investments', 'Cash And Cash Equivalents']\n",
      "\n",
      "--- Input Data for DAL ---\n",
      "Market Value of Equity (E): $38,952,493,056.00\n",
      "Face Value of Debt (K):     $60,079,000,000.00\n",
      "Annualized Equity Volatility (σ_E): 48.94%\n",
      "Time to Maturity (T): 1.0 year\n",
      "Risk-Free Rate (r): 4.50%\n",
      "-----------------------------------\n",
      "Available balance sheet items:\n",
      "['Treasury Shares Number', 'Ordinary Shares Number', 'Share Issued', 'Net Debt', 'Total Debt', 'Tangible Book Value', 'Invested Capital', 'Working Capital', 'Net Tangible Assets', 'Capital Lease Obligations', 'Common Stock Equity', 'Total Capitalization', 'Total Equity Gross Minority Interest', 'Stockholders Equity', 'Gains Losses Not Affecting Retained Earnings', 'Other Equity Adjustments', 'Treasury Stock', 'Retained Earnings', 'Additional Paid In Capital', 'Capital Stock', 'Common Stock', 'Total Liabilities Net Minority Interest', 'Total Non Current Liabilities Net Minority Interest', 'Other Non Current Liabilities', 'Employee Benefits', 'Non Current Pension And Other Postretirement Benefit Plans', 'Non Current Deferred Liabilities', 'Non Current Deferred Revenue', 'Non Current Deferred Taxes Liabilities', 'Long Term Debt And Capital Lease Obligation', 'Long Term Capital Lease Obligation', 'Long Term Debt', 'Current Liabilities', 'Other Current Liabilities', 'Current Deferred Liabilities', 'Current Deferred Revenue', 'Current Debt And Capital Lease Obligation', 'Current Capital Lease Obligation', 'Current Debt', 'Other Current Borrowings', 'Payables And Accrued Expenses', 'Current Accrued Expenses', 'Payables', 'Accounts Payable', 'Total Assets', 'Total Non Current Assets', 'Other Non Current Assets', 'Non Current Deferred Assets', 'Non Current Deferred Taxes Assets', 'Investments And Advances', 'Investmentin Financial Assets', 'Available For Sale Securities', 'Long Term Equity Investment', 'Goodwill And Other Intangible Assets', 'Other Intangible Assets', 'Goodwill', 'Net PPE', 'Accumulated Depreciation', 'Gross PPE', 'Construction In Progress', 'Other Properties', 'Machinery Furniture Equipment', 'Current Assets', 'Other Current Assets', 'Prepaid Assets', 'Inventory', 'Receivables', 'Accounts Receivable', 'Allowance For Doubtful Accounts Receivable', 'Gross Accounts Receivable', 'Cash Cash Equivalents And Short Term Investments', 'Other Short Term Investments', 'Cash And Cash Equivalents']\n",
      "\n",
      "--- Input Data for DAL ---\n",
      "Market Value of Equity (E): $38,952,493,056.00\n",
      "Face Value of Debt (K):     $60,079,000,000.00\n",
      "Annualized Equity Volatility (σ_E): 48.94%\n",
      "Time to Maturity (T): 1.0 year\n",
      "Risk-Free Rate (r): 4.50%\n",
      "-----------------------------------\n"
     ]
    }
   ],
   "source": [
    "# --- 1. DATA GATHERING ---\n",
    "# Use the selected ticker from the widget above\n",
    "ticker_symbol = selected_ticker\n",
    "company = yf.Ticker(ticker_symbol)\n",
    "\n",
    "print(f\"🎯 Analyzing: {ticker_symbol}\")\n",
    "print(\"-\" * 30)\n",
    "\n",
    "# Get Market Capitalization (Market Value of Equity, E)\n",
    "E = company.info['marketCap']\n",
    "\n",
    "# Get Total Liabilities (Proxy for Face Value of Debt, K)\n",
    "balance_sheet = company.balance_sheet\n",
    "\n",
    "# Try to find Total Liabilities - check what's available first\n",
    "print(\"Available balance sheet items:\")\n",
    "print(balance_sheet.index.tolist())\n",
    "\n",
    "# Use the correct name (try multiple options for different companies)\n",
    "if 'Total Liabilities Net Minority Interest' in balance_sheet.index:\n",
    "    K = balance_sheet.loc['Total Liabilities Net Minority Interest'].iloc[0]\n",
    "elif 'Total Liab' in balance_sheet.index:\n",
    "    K = balance_sheet.loc['Total Liab'].iloc[0]\n",
    "elif 'Total Debt' in balance_sheet.index:\n",
    "    K = balance_sheet.loc['Total Debt'].iloc[0]\n",
    "else:\n",
    "    # Use total debt from company info as fallback\n",
    "    K = company.info.get('totalDebt', E * 0.3)  # Assume 30% debt if not available\n",
    "    print(f\"⚠️  Using fallback debt estimate\")\n",
    "\n",
    "# Get Historical Stock Prices to Calculate Equity Volatility (sigma_E)\n",
    "hist = company.history(period=\"1y\")\n",
    "log_returns = np.log(hist['Close'] / hist['Close'].shift(1))\n",
    "sigma_E = log_returns.std() * np.sqrt(252) \n",
    "\n",
    "# Define Model Parameters\n",
    "T = 1.0 \n",
    "r = 0.045 # Example rate: 4.5%\n",
    "\n",
    "print(f\"\\n--- Input Data for {ticker_symbol} ---\")\n",
    "print(f\"Market Value of Equity (E): ${E:,.2f}\")\n",
    "print(f\"Face Value of Debt (K):     ${K:,.2f}\")\n",
    "print(f\"Annualized Equity Volatility (σ_E): {sigma_E:.2%}\")\n",
    "print(f\"Time to Maturity (T): {T} year\")\n",
    "print(f\"Risk-Free Rate (r): {r:.2%}\")\n",
    "print(\"-\" * 35)"
   ]
  },
  {
   "cell_type": "code",
   "execution_count": 13,
   "id": "c30e108f",
   "metadata": {},
   "outputs": [
    {
     "name": "stdout",
     "output_type": "stream",
     "text": [
      "--- Solved Model Parameters ---\n",
      "Market Value of Assets (V_A): $96,366,811,428.99\n",
      "Asset Volatility (σ_A): 19.85%\n",
      "-----------------------------------\n"
     ]
    }
   ],
   "source": [
    "# --- 2. ITERATIVE SOLVER FOR V_A and sigma_A ---\n",
    "def solve_merton_model(E, K, T, r, sigma_E):\n",
    "    V_A = E + K \n",
    "    sigma_A = sigma_E * (E / (E + K))\n",
    "\n",
    "    def equations(variables):\n",
    "        v, s = variables\n",
    "        if v <= 0 or s <= 0:\n",
    "            return [1e6, 1e6]\n",
    "        d1 = (np.log(v / K) + (r + 0.5 * s**2) * T) / (s * np.sqrt(T))\n",
    "        d2 = d1 - s * np.sqrt(T)\n",
    "        eq1 = E - (v * norm.cdf(d1) - K * np.exp(-r * T) * norm.cdf(d2))\n",
    "        eq2 = sigma_E - ((v / E) * norm.cdf(d1) * s)\n",
    "        return [eq1, eq2]\n",
    "\n",
    "    solution, _, _, _ = fsolve(equations, [V_A, sigma_A], full_output=True)\n",
    "    return solution[0], solution[1]\n",
    "\n",
    "V_A, sigma_A = solve_merton_model(E, K, T, r, sigma_E)\n",
    "\n",
    "print(f\"--- Solved Model Parameters ---\")\n",
    "print(f\"Market Value of Assets (V_A): ${V_A:,.2f}\")\n",
    "print(f\"Asset Volatility (σ_A): {sigma_A:.2%}\")\n",
    "print(\"-\" * 35)"
   ]
  },
  {
   "cell_type": "code",
   "execution_count": 14,
   "id": "d0b2b2f8",
   "metadata": {},
   "outputs": [
    {
     "name": "stdout",
     "output_type": "stream",
     "text": [
      "--- Credit Risk Analysis ---\n",
      "Distance to Default (d2): 2.5077\n",
      "Risk-Neutral Probability of Default: 0.6075%\n",
      "Market Value of Debt (Merton): $57,414,318,373.95\n",
      "Implied Yield on Debt: 4.54%\n",
      "Credit Spread: 3.67 basis points\n"
     ]
    }
   ],
   "source": [
    "# --- 3. CALCULATING CREDIT RISK METRICS ---\n",
    "d1 = (np.log(V_A / K) + (r + 0.5 * sigma_A**2) * T) / (sigma_A * np.sqrt(T))\n",
    "d2 = d1 - sigma_A * np.sqrt(T)\n",
    "\n",
    "# Risk-Neutral Probability of Default\n",
    "probability_of_default = norm.cdf(-d2)\n",
    "\n",
    "# Market Value of Debt (F)\n",
    "F_direct = V_A * norm.cdf(-d1) + K * np.exp(-r * T) * norm.cdf(d2)\n",
    "\n",
    "# Yield to Maturity and Credit Spread\n",
    "yield_to_maturity = - (1/T) * np.log(F_direct / K)\n",
    "credit_spread = yield_to_maturity - r\n",
    "\n",
    "print(f\"--- Credit Risk Analysis ---\")\n",
    "print(f\"Distance to Default (d2): {d2:.4f}\")\n",
    "print(f\"Risk-Neutral Probability of Default: {probability_of_default:.4%}\")\n",
    "print(f\"Market Value of Debt (Merton): ${F_direct:,.2f}\")\n",
    "print(f\"Implied Yield on Debt: {yield_to_maturity:.2%}\")\n",
    "print(f\"Credit Spread: {credit_spread*10000:.2f} basis points\")"
   ]
  }
 ],
 "metadata": {
  "kernelspec": {
   "display_name": "Python 3",
   "language": "python",
   "name": "python3"
  },
  "language_info": {
   "codemirror_mode": {
    "name": "ipython",
    "version": 3
   },
   "file_extension": ".py",
   "mimetype": "text/x-python",
   "name": "python",
   "nbconvert_exporter": "python",
   "pygments_lexer": "ipython3",
   "version": "3.11.5"
  }
 },
 "nbformat": 4,
 "nbformat_minor": 5
}
